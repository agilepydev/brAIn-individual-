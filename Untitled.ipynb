{
 "cells": [
  {
   "cell_type": "markdown",
   "id": "12b89fc6",
   "metadata": {},
   "source": [
    "### Unsupervised learning "
   ]
  },
  {
   "cell_type": "markdown",
   "id": "b6cf58b6",
   "metadata": {},
   "source": [
    "#### Model comparison:"
   ]
  },
  {
   "cell_type": "markdown",
   "id": "55e9723b",
   "metadata": {},
   "source": [
    "#### Libraries"
   ]
  },
  {
   "cell_type": "code",
   "execution_count": 29,
   "id": "6f047df6",
   "metadata": {},
   "outputs": [],
   "source": [
    "import pandas as pd\n",
    "import numpy as np\n",
    "%matplotlib inline"
   ]
  },
  {
   "cell_type": "code",
   "execution_count": 30,
   "id": "6b5fdbd4",
   "metadata": {},
   "outputs": [],
   "source": [
    "decibel_00 = pd.read_csv('all_decibel00.csv')\n",
    "#abnorm_00 = \n",
    "#norm_00 = "
   ]
  },
  {
   "cell_type": "code",
   "execution_count": 31,
   "id": "5753e70c",
   "metadata": {},
   "outputs": [
    {
     "data": {
      "text/html": [
       "<div>\n",
       "<style scoped>\n",
       "    .dataframe tbody tr th:only-of-type {\n",
       "        vertical-align: middle;\n",
       "    }\n",
       "\n",
       "    .dataframe tbody tr th {\n",
       "        vertical-align: top;\n",
       "    }\n",
       "\n",
       "    .dataframe thead th {\n",
       "        text-align: right;\n",
       "    }\n",
       "</style>\n",
       "<table border=\"1\" class=\"dataframe\">\n",
       "  <thead>\n",
       "    <tr style=\"text-align: right;\">\n",
       "      <th></th>\n",
       "      <th>chroma_stft</th>\n",
       "      <th>spectral_centroid</th>\n",
       "      <th>spectral_bandwidth</th>\n",
       "      <th>spectral_rolloff</th>\n",
       "      <th>rms</th>\n",
       "      <th>zero_crossing_rate</th>\n",
       "      <th>class</th>\n",
       "    </tr>\n",
       "  </thead>\n",
       "  <tbody>\n",
       "    <tr>\n",
       "      <th>0</th>\n",
       "      <td>0.598840</td>\n",
       "      <td>1089.177017</td>\n",
       "      <td>1383.735396</td>\n",
       "      <td>2262.105631</td>\n",
       "      <td>0.010383</td>\n",
       "      <td>0.064060</td>\n",
       "      <td>1</td>\n",
       "    </tr>\n",
       "    <tr>\n",
       "      <th>1</th>\n",
       "      <td>0.576613</td>\n",
       "      <td>1000.493633</td>\n",
       "      <td>1383.642244</td>\n",
       "      <td>1959.265176</td>\n",
       "      <td>0.010091</td>\n",
       "      <td>0.052560</td>\n",
       "      <td>1</td>\n",
       "    </tr>\n",
       "    <tr>\n",
       "      <th>2</th>\n",
       "      <td>0.560939</td>\n",
       "      <td>1432.253254</td>\n",
       "      <td>1764.015225</td>\n",
       "      <td>3193.091054</td>\n",
       "      <td>0.009649</td>\n",
       "      <td>0.080421</td>\n",
       "      <td>1</td>\n",
       "    </tr>\n",
       "    <tr>\n",
       "      <th>3</th>\n",
       "      <td>0.339193</td>\n",
       "      <td>1100.711037</td>\n",
       "      <td>1226.349827</td>\n",
       "      <td>2160.193690</td>\n",
       "      <td>0.012322</td>\n",
       "      <td>0.071298</td>\n",
       "      <td>1</td>\n",
       "    </tr>\n",
       "    <tr>\n",
       "      <th>4</th>\n",
       "      <td>0.466292</td>\n",
       "      <td>987.975508</td>\n",
       "      <td>1345.496758</td>\n",
       "      <td>2061.875998</td>\n",
       "      <td>0.013467</td>\n",
       "      <td>0.042864</td>\n",
       "      <td>1</td>\n",
       "    </tr>\n",
       "    <tr>\n",
       "      <th>...</th>\n",
       "      <td>...</td>\n",
       "      <td>...</td>\n",
       "      <td>...</td>\n",
       "      <td>...</td>\n",
       "      <td>...</td>\n",
       "      <td>...</td>\n",
       "      <td>...</td>\n",
       "    </tr>\n",
       "    <tr>\n",
       "      <th>5092</th>\n",
       "      <td>0.311252</td>\n",
       "      <td>1382.161327</td>\n",
       "      <td>1739.975834</td>\n",
       "      <td>2738.468450</td>\n",
       "      <td>0.005223</td>\n",
       "      <td>0.084697</td>\n",
       "      <td>0</td>\n",
       "    </tr>\n",
       "    <tr>\n",
       "      <th>5093</th>\n",
       "      <td>0.368219</td>\n",
       "      <td>946.641369</td>\n",
       "      <td>1405.789708</td>\n",
       "      <td>1890.125799</td>\n",
       "      <td>0.005232</td>\n",
       "      <td>0.049231</td>\n",
       "      <td>0</td>\n",
       "    </tr>\n",
       "    <tr>\n",
       "      <th>5094</th>\n",
       "      <td>0.419019</td>\n",
       "      <td>972.465287</td>\n",
       "      <td>1274.905200</td>\n",
       "      <td>2007.787540</td>\n",
       "      <td>0.005857</td>\n",
       "      <td>0.055215</td>\n",
       "      <td>0</td>\n",
       "    </tr>\n",
       "    <tr>\n",
       "      <th>5095</th>\n",
       "      <td>0.327517</td>\n",
       "      <td>1357.745634</td>\n",
       "      <td>1824.084602</td>\n",
       "      <td>3023.512380</td>\n",
       "      <td>0.005703</td>\n",
       "      <td>0.067955</td>\n",
       "      <td>0</td>\n",
       "    </tr>\n",
       "    <tr>\n",
       "      <th>5096</th>\n",
       "      <td>0.283465</td>\n",
       "      <td>1394.601763</td>\n",
       "      <td>1872.973318</td>\n",
       "      <td>3205.945487</td>\n",
       "      <td>0.005798</td>\n",
       "      <td>0.074010</td>\n",
       "      <td>0</td>\n",
       "    </tr>\n",
       "  </tbody>\n",
       "</table>\n",
       "<p>5097 rows × 7 columns</p>\n",
       "</div>"
      ],
      "text/plain": [
       "      chroma_stft  spectral_centroid  spectral_bandwidth  spectral_rolloff  \\\n",
       "0        0.598840        1089.177017         1383.735396       2262.105631   \n",
       "1        0.576613        1000.493633         1383.642244       1959.265176   \n",
       "2        0.560939        1432.253254         1764.015225       3193.091054   \n",
       "3        0.339193        1100.711037         1226.349827       2160.193690   \n",
       "4        0.466292         987.975508         1345.496758       2061.875998   \n",
       "...           ...                ...                 ...               ...   \n",
       "5092     0.311252        1382.161327         1739.975834       2738.468450   \n",
       "5093     0.368219         946.641369         1405.789708       1890.125799   \n",
       "5094     0.419019         972.465287         1274.905200       2007.787540   \n",
       "5095     0.327517        1357.745634         1824.084602       3023.512380   \n",
       "5096     0.283465        1394.601763         1872.973318       3205.945487   \n",
       "\n",
       "           rms  zero_crossing_rate  class  \n",
       "0     0.010383            0.064060      1  \n",
       "1     0.010091            0.052560      1  \n",
       "2     0.009649            0.080421      1  \n",
       "3     0.012322            0.071298      1  \n",
       "4     0.013467            0.042864      1  \n",
       "...        ...                 ...    ...  \n",
       "5092  0.005223            0.084697      0  \n",
       "5093  0.005232            0.049231      0  \n",
       "5094  0.005857            0.055215      0  \n",
       "5095  0.005703            0.067955      0  \n",
       "5096  0.005798            0.074010      0  \n",
       "\n",
       "[5097 rows x 7 columns]"
      ]
     },
     "execution_count": 31,
     "metadata": {},
     "output_type": "execute_result"
    }
   ],
   "source": [
    "decibel_00"
   ]
  },
  {
   "cell_type": "code",
   "execution_count": 34,
   "id": "b53a32ca",
   "metadata": {},
   "outputs": [
    {
     "ename": "AttributeError",
     "evalue": "'DataFrame' object has no attribute 'value_count'",
     "output_type": "error",
     "traceback": [
      "\u001b[0;31m---------------------------------------------------------------------------\u001b[0m",
      "\u001b[0;31mAttributeError\u001b[0m                            Traceback (most recent call last)",
      "\u001b[0;32m/tmp/ipykernel_215732/1962266825.py\u001b[0m in \u001b[0;36m<module>\u001b[0;34m\u001b[0m\n\u001b[0;32m----> 1\u001b[0;31m \u001b[0mprint\u001b[0m\u001b[0;34m(\u001b[0m\u001b[0mdecibel_00\u001b[0m\u001b[0;34m.\u001b[0m\u001b[0mvalue_count\u001b[0m\u001b[0;34m(\u001b[0m\u001b[0;34m)\u001b[0m\u001b[0;34m)\u001b[0m\u001b[0;34m\u001b[0m\u001b[0;34m\u001b[0m\u001b[0m\n\u001b[0m",
      "\u001b[0;32m~/anaconda3/envs/brain/lib/python3.8/site-packages/pandas/core/generic.py\u001b[0m in \u001b[0;36m__getattr__\u001b[0;34m(self, name)\u001b[0m\n\u001b[1;32m   5485\u001b[0m         ):\n\u001b[1;32m   5486\u001b[0m             \u001b[0;32mreturn\u001b[0m \u001b[0mself\u001b[0m\u001b[0;34m[\u001b[0m\u001b[0mname\u001b[0m\u001b[0;34m]\u001b[0m\u001b[0;34m\u001b[0m\u001b[0;34m\u001b[0m\u001b[0m\n\u001b[0;32m-> 5487\u001b[0;31m         \u001b[0;32mreturn\u001b[0m \u001b[0mobject\u001b[0m\u001b[0;34m.\u001b[0m\u001b[0m__getattribute__\u001b[0m\u001b[0;34m(\u001b[0m\u001b[0mself\u001b[0m\u001b[0;34m,\u001b[0m \u001b[0mname\u001b[0m\u001b[0;34m)\u001b[0m\u001b[0;34m\u001b[0m\u001b[0;34m\u001b[0m\u001b[0m\n\u001b[0m\u001b[1;32m   5488\u001b[0m \u001b[0;34m\u001b[0m\u001b[0m\n\u001b[1;32m   5489\u001b[0m     \u001b[0;32mdef\u001b[0m \u001b[0m__setattr__\u001b[0m\u001b[0;34m(\u001b[0m\u001b[0mself\u001b[0m\u001b[0;34m,\u001b[0m \u001b[0mname\u001b[0m\u001b[0;34m:\u001b[0m \u001b[0mstr\u001b[0m\u001b[0;34m,\u001b[0m \u001b[0mvalue\u001b[0m\u001b[0;34m)\u001b[0m \u001b[0;34m->\u001b[0m \u001b[0;32mNone\u001b[0m\u001b[0;34m:\u001b[0m\u001b[0;34m\u001b[0m\u001b[0;34m\u001b[0m\u001b[0m\n",
      "\u001b[0;31mAttributeError\u001b[0m: 'DataFrame' object has no attribute 'value_count'"
     ]
    }
   ],
   "source": [
    "print(decibel_00.)"
   ]
  },
  {
   "cell_type": "markdown",
   "id": "3dcc8fcc",
   "metadata": {},
   "source": [
    "### Resources\n",
    "\n",
    "https://uoa-eresearch.github.io/eresearch-cookbook/recipe/2014/11/20/conda/\n",
    "\n",
    "https://hal.archives-ouvertes.fr/tel-01394280v2/document\n",
    "\n",
    "https://yzrobot.github.io/mobile_robotics/P20-UN56-clustering.pdf\n"
   ]
  },
  {
   "cell_type": "code",
   "execution_count": null,
   "id": "d3404426",
   "metadata": {},
   "outputs": [],
   "source": []
  }
 ],
 "metadata": {
  "kernelspec": {
   "display_name": "Python 3 (ipykernel)",
   "language": "python",
   "name": "python3"
  },
  "language_info": {
   "codemirror_mode": {
    "name": "ipython",
    "version": 3
   },
   "file_extension": ".py",
   "mimetype": "text/x-python",
   "name": "python",
   "nbconvert_exporter": "python",
   "pygments_lexer": "ipython3",
   "version": "3.8.12"
  }
 },
 "nbformat": 4,
 "nbformat_minor": 5
}
